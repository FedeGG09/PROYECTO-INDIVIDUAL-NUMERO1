{
 "cells": [
  {
   "cell_type": "code",
   "execution_count": 1,
   "metadata": {},
   "outputs": [],
   "source": [
    "import pandas as pd\n",
    "import numpy as np\n",
    "import json\n",
    "import ast"
   ]
  },
  {
   "cell_type": "code",
   "execution_count": 2,
   "metadata": {},
   "outputs": [
    {
     "name": "stderr",
     "output_type": "stream",
     "text": [
      "C:\\Users\\Fede\\AppData\\Local\\Temp\\ipykernel_14136\\2699400193.py:2: DtypeWarning: Columns (10) have mixed types. Specify dtype option on import or set low_memory=False.\n",
      "  Films = pd.read_csv(\"C:/Users/Fede/Documents/Henry/Labs/Fede/movies_dataset (1).csv\")\n"
     ]
    }
   ],
   "source": [
    "Films = pd.DataFrame\n",
    "Films = pd.read_csv(\"C:/Users/Fede/Documents/Henry/Labs/Fede/movies_dataset (1).csv\")\n"
   ]
  },
  {
   "cell_type": "code",
   "execution_count": 3,
   "metadata": {},
   "outputs": [],
   "source": [
    "# Leer solo las columnas 'cast' y 'crew' del archivo credits.csv\n",
    "df2 = pd.read_csv(\"C:/Users/Fede/Documents/Henry/Labs/Fede/credits (1).csv\", usecols=['cast', 'crew'])\n",
    "\n",
    "# Agregar las columnas 'cast' y 'crew' del DataFrame df2 al DataFrame df1\n",
    "Films['cast'] = df2['cast']\n",
    "Films['crew'] = df2['crew']\n"
   ]
  },
  {
   "cell_type": "code",
   "execution_count": 4,
   "metadata": {},
   "outputs": [],
   "source": [
    "\n",
    "def extraer_nombre_actor(cast):\n",
    "    if pd.isnull(cast):\n",
    "        return np.nan\n",
    "    else:\n",
    "        try:\n",
    "            lista_de_actores = ast.literal_eval(cast)\n",
    "            nombre_de_actores = [actor['name'] for actor in lista_de_actores]\n",
    "            return ', '.join(nombre_de_actores)  # Devuelve los nombres y apellidos de los actores separados por coma\n",
    "        except (ValueError, TypeError):\n",
    "            return np.nan\n",
    "\n"
   ]
  },
  {
   "cell_type": "code",
   "execution_count": 5,
   "metadata": {},
   "outputs": [],
   "source": [
    "# Aplicar la función extraer_nombre_actor a la columna 'cast'\n",
    "Films['actores'] = Films['cast'].apply(extraer_nombre_actor)"
   ]
  },
  {
   "cell_type": "code",
   "execution_count": 6,
   "metadata": {},
   "outputs": [],
   "source": [
    "Films.drop(['cast'], axis=1, inplace=True)"
   ]
  },
  {
   "cell_type": "code",
   "execution_count": 7,
   "metadata": {},
   "outputs": [],
   "source": [
    "def extraer_director(director):\n",
    "    if pd.isnull(director):\n",
    "        return np.nan\n",
    "    else:\n",
    "        try:\n",
    "            lista_de_directores = ast.literal_eval(director)\n",
    "            for member in lista_de_directores:\n",
    "                if member['job'] == 'Director':\n",
    "                    return member['name']\n",
    "            return np.nan\n",
    "        except (ValueError, TypeError):\n",
    "            return np.nan\n"
   ]
  },
  {
   "cell_type": "code",
   "execution_count": 8,
   "metadata": {},
   "outputs": [],
   "source": [
    "# Aplicar la función extraer_director a la columna 'crew' y crear la columna 'director'\n",
    "Films['director'] = Films['crew'].apply(extraer_director)"
   ]
  },
  {
   "cell_type": "code",
   "execution_count": 9,
   "metadata": {},
   "outputs": [],
   "source": [
    "Films.drop('crew', axis=1, inplace=True)"
   ]
  },
  {
   "cell_type": "code",
   "execution_count": 10,
   "metadata": {},
   "outputs": [],
   "source": [
    "# Función personalizada para desanidar la columna 'belongs_to_collection'\n",
    "def extract_collection_name(collection):\n",
    "    try:\n",
    "        return ast.literal_eval(collection)['name']\n",
    "    except (ValueError, TypeError):\n",
    "        return None\n"
   ]
  },
  {
   "cell_type": "code",
   "execution_count": 11,
   "metadata": {},
   "outputs": [],
   "source": [
    "# Aplicar la función personalizada a la columna 'belongs_to_collection'\n",
    "Films['belongs_to_collection'] = Films['belongs_to_collection'].apply(extract_collection_name)\n"
   ]
  },
  {
   "cell_type": "code",
   "execution_count": 12,
   "metadata": {},
   "outputs": [],
   "source": [
    "# Función para desanidar la columna 'spoken_languages' y extraer el nombre del idioma\n",
    "def extract_language_name(languages):\n",
    "    if pd.isnull(languages):\n",
    "        return pd.NA\n",
    "    try:\n",
    "        languages_list = eval(languages)\n",
    "        language_names = [lang['name'] for lang in languages_list]\n",
    "        return \", \".join(language_names)\n",
    "    except (ValueError, TypeError):\n",
    "        return pd.NA"
   ]
  },
  {
   "cell_type": "code",
   "execution_count": 13,
   "metadata": {},
   "outputs": [],
   "source": [
    "# Aplicar la función para desanidar 'spoken_languages' y obtener el nombre del idioma\n",
    "Films['spoken_languages'] = Films['spoken_languages'].apply(extract_language_name)\n"
   ]
  },
  {
   "cell_type": "code",
   "execution_count": 14,
   "metadata": {},
   "outputs": [],
   "source": [
    "# Función para desanidar la columna 'genres' y extraer los nombres de los géneros\n",
    "def extract_genre_names(genres):\n",
    "    if pd.isnull(genres):\n",
    "        return pd.NA\n",
    "    try:\n",
    "        genres_list = eval(genres)\n",
    "        genre_names = [genre['name'] for genre in genres_list]\n",
    "        return \", \".join(genre_names)\n",
    "    except (ValueError, TypeError):\n",
    "        return pd.NA\n"
   ]
  },
  {
   "cell_type": "code",
   "execution_count": 15,
   "metadata": {},
   "outputs": [],
   "source": [
    "# Aplicar la función para desanidar 'genres' y extraer los nombres de los géneros\n",
    "Films['genres'] = Films['genres'].apply(extract_genre_names)"
   ]
  },
  {
   "cell_type": "code",
   "execution_count": 16,
   "metadata": {},
   "outputs": [],
   "source": [
    "# Función para desanidar la columna 'production_countries' y extraer los nombres de los países de producción\n",
    "def extract_country_names(countries):\n",
    "    if pd.isnull(countries):\n",
    "        return pd.NA\n",
    "    try:\n",
    "        countries_list = eval(countries)\n",
    "        country_names = [country['name'] for country in countries_list]\n",
    "        return \", \".join(country_names)\n",
    "    except (ValueError, TypeError):\n",
    "        return pd.NA\n"
   ]
  },
  {
   "cell_type": "code",
   "execution_count": 17,
   "metadata": {},
   "outputs": [],
   "source": [
    "# Aplicar la función para desanidar 'production_countries' y obtener los nombres de los países de producción\n",
    "Films['production_countries'] = Films['production_countries'].apply(extract_country_names)"
   ]
  },
  {
   "cell_type": "code",
   "execution_count": 18,
   "metadata": {},
   "outputs": [],
   "source": [
    "# Función para desanidar la columna 'production_companies' y extraer los nombres de las compañías de producción\n",
    "def extract_production_company_names(companies):\n",
    "    if pd.isnull(companies):\n",
    "        return pd.NA\n",
    "    try:\n",
    "        companies_list = eval(companies)\n",
    "        company_names = [company['name'] for company in companies_list]\n",
    "        return \", \".join(company_names)\n",
    "    except (ValueError, TypeError):\n",
    "        return pd.NA\n"
   ]
  },
  {
   "cell_type": "code",
   "execution_count": 19,
   "metadata": {},
   "outputs": [],
   "source": [
    "# Aplicar la función para desanidar 'production_companies' y obtener los nombres de las compañías de producción\n",
    "Films['production_companies'] = Films['production_companies'].apply(extract_production_company_names)"
   ]
  },
  {
   "cell_type": "code",
   "execution_count": 20,
   "metadata": {},
   "outputs": [],
   "source": [
    "# Rellenar los valores nulos en la columna \"budget\" con 0\n",
    "Films['budget'].fillna(0, inplace=True)"
   ]
  },
  {
   "cell_type": "code",
   "execution_count": 21,
   "metadata": {},
   "outputs": [],
   "source": [
    "# Rellenar los valores nulos en la columna \"revenue\" con 0\n",
    "Films['revenue'].fillna(0, inplace=True)"
   ]
  },
  {
   "cell_type": "code",
   "execution_count": 22,
   "metadata": {},
   "outputs": [],
   "source": [
    "# Eliminar los valores nulos del campo 'release_date'\n",
    "Films.dropna(subset=['release_date'], inplace=True)"
   ]
  },
  {
   "cell_type": "code",
   "execution_count": 23,
   "metadata": {},
   "outputs": [],
   "source": [
    "# Convertir la columna 'release_date' a objetos de fecha y manejar los valores no válidos\n",
    "Films['release_date'] = pd.to_datetime(Films['release_date'], errors='coerce')\n",
    "\n",
    "# Eliminar las filas que contienen valores NaT (no válidos)\n",
    "Films.dropna(subset=['release_date'], inplace=True)\n",
    "\n",
    "# Formatear las fechas en el formato 'AAAA-mm-dd'\n",
    "Films['release_date'] = Films['release_date'].dt.strftime('%Y-%m-%d')\n"
   ]
  },
  {
   "cell_type": "code",
   "execution_count": 24,
   "metadata": {},
   "outputs": [],
   "source": [
    "# Función para calcular el retorno de inversión\n",
    "def calculate_return(row):\n",
    "    revenue = pd.to_numeric(row['revenue'], errors='coerce')\n",
    "    budget = pd.to_numeric(row['budget'], errors='coerce')\n",
    "    if pd.notna(revenue) and pd.notna(budget) and budget != 0:\n",
    "        return revenue / budget\n",
    "    return 0\n",
    "\n",
    "# Crear la nueva columna 'return' aplicando la función de cálculo\n",
    "Films['return'] = Films.apply(calculate_return, axis=1)"
   ]
  },
  {
   "cell_type": "code",
   "execution_count": 25,
   "metadata": {},
   "outputs": [],
   "source": [
    "# Lista de columnas a eliminar\n",
    "columnas_sin_utilizar = ['video', 'imdb_id', 'adult', 'original_title', 'poster_path', 'homepage', 'id', 'status', 'tagline']\n",
    "\n",
    "# Eliminar las columnas que no serán utilizadas\n",
    "Films.drop(columns=columnas_sin_utilizar, inplace=True)"
   ]
  },
  {
   "cell_type": "code",
   "execution_count": 26,
   "metadata": {},
   "outputs": [],
   "source": [
    "# Convertir la columna release_date a tipo datetime si no lo está ya\n",
    "Films['release_date'] = pd.to_datetime(Films['release_date'])\n",
    "\n",
    "# Definir el rango de fechas para filtrar\n",
    "fecha_inicio = pd.to_datetime('1979-12-01')\n",
    "fecha_fin = pd.to_datetime('2022-12-01')\n",
    "\n",
    "# Filtrar las filas basadas en el rango de fechas\n",
    "Films = Films[(Films['release_date'] >= fecha_inicio) & (Films['release_date'] <= fecha_fin)]\n"
   ]
  },
  {
   "cell_type": "code",
   "execution_count": 27,
   "metadata": {},
   "outputs": [],
   "source": [
    "# Lista de columnas a eliminar\n",
    "columnas_sin_utilizar = ['vote_average', 'vote_count']\n",
    "\n",
    "# Eliminar las columnas que no serán utilizadas\n",
    "Films.drop(columns=columnas_sin_utilizar, inplace=True)"
   ]
  },
  {
   "cell_type": "code",
   "execution_count": 28,
   "metadata": {},
   "outputs": [],
   "source": [
    "Films.to_csv('Films.csv', index=False)"
   ]
  }
 ],
 "metadata": {
  "kernelspec": {
   "display_name": "Python 3",
   "language": "python",
   "name": "python3"
  },
  "language_info": {
   "codemirror_mode": {
    "name": "ipython",
    "version": 3
   },
   "file_extension": ".py",
   "mimetype": "text/x-python",
   "name": "python",
   "nbconvert_exporter": "python",
   "pygments_lexer": "ipython3",
   "version": "3.9.13"
  },
  "orig_nbformat": 4
 },
 "nbformat": 4,
 "nbformat_minor": 2
}
