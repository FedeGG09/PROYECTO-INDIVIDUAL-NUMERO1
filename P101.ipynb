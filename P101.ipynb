import pandas as pd
Films=pd.read_csv('./Datasets/Films.csv')
Films
#Utilizo función personalizada para desanidar la columna cast
def extraer_nombre_actor(cast):
    if pd.isnull(cast):
        return np.nan
    else:
        try:
            lista_de_actores = ast.literal_eval(cast)
            nombre_de_actores = [actor['name'] for actor in lista_de_actores]
            return ', '.join(nombre_de_actores)  # Devuelve los nombres y apellidos de los actores separados por coma
        except (ValueError, TypeError):
            return np.nan
Films['actores'] = Films['cast'].apply(extraer_nombre_actor)
