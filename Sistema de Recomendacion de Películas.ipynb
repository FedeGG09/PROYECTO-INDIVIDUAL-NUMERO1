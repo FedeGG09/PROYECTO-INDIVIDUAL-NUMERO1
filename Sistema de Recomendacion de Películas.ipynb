{
 "cells": [
  {
   "cell_type": "code",
   "execution_count": null,
   "metadata": {},
   "outputs": [],
   "source": [
    "#Sistema de recomendación"
   ]
  },
  {
   "cell_type": "code",
   "execution_count": 3,
   "metadata": {},
   "outputs": [],
   "source": [
    "import pandas as pd\n",
    "import matplotlib.pyplot as plt\n",
    "import seaborn as sns\n",
    "from wordcloud import WordCloud\n",
    "from sklearn.feature_extraction.text import TfidfVectorizer\n",
    "from sklearn.metrics.pairwise import linear_kernel"
   ]
  },
  {
   "cell_type": "code",
   "execution_count": 4,
   "metadata": {},
   "outputs": [],
   "source": [
    "# Cargar el dataset de películas\n",
    "Films = pd.read_csv(\"C:/Users/Fede/Documents/henry/Labs/Fede/Films.csv\")"
   ]
  },
  {
   "cell_type": "code",
   "execution_count": 5,
   "metadata": {},
   "outputs": [],
   "source": [
    "# Eliminamos filas con valores faltantes en las columnas relevantes para el análisis\n",
    "Films.dropna(subset=['belongs_to_collection', 'genres', 'release_date', 'original_language'], inplace=True)"
   ]
  },
  {
   "cell_type": "code",
   "execution_count": 6,
   "metadata": {},
   "outputs": [],
   "source": [
    "# Limpiar y estandarizar el texto para facilitar la búsqueda\n",
    "Films['title'] = Films['title'].str.lower().str.strip()"
   ]
  },
  {
   "cell_type": "code",
   "execution_count": 7,
   "metadata": {},
   "outputs": [],
   "source": [
    "Films['combined_features'] = (\n",
    "    Films['belongs_to_collection'].astype(str) + ' ' +\n",
    "    Films['genres'].astype(str) + ' ' +\n",
    "    Films['release_date'].astype(str) + ' ' +\n",
    "    Films['original_language'].astype(str)\n",
    ")"
   ]
  },
  {
   "cell_type": "code",
   "execution_count": 8,
   "metadata": {},
   "outputs": [],
   "source": [
    "# Crear la matriz de características TF-IDF\n",
    "tfidf_vectorizer = TfidfVectorizer()\n",
    "tfidf_matrix = tfidf_vectorizer.fit_transform(Films['combined_features'])\n",
    "\n",
    "# Calcular la similitud del coseno utilizando el kernel lineal\n",
    "cosine_sim = linear_kernel(tfidf_matrix, tfidf_matrix)"
   ]
  },
  {
   "cell_type": "code",
   "execution_count": 13,
   "metadata": {},
   "outputs": [],
   "source": [
    "from fuzzywuzzy import fuzz\n",
    "\n",
    "def recomendacion(titulo):\n",
    "    # Convertir el título ingresado a minúsculas y eliminar espacios en blanco\n",
    "    titulo = titulo.lower().strip()\n",
    "\n",
    "    # Realizar búsqueda difusa para encontrar el título más similar en el DataFrame\n",
    "    match_scores = Films['title'].apply(lambda x: fuzz.partial_ratio(x.lower().strip(), titulo))\n",
    "    best_match_index = match_scores.idxmax()\n",
    "\n",
    "    # Obtener el índice de la película correspondiente al título más similar\n",
    "    index = best_match_index\n",
    "\n",
    "    # Calcular la similitud de la película con el resto de películas\n",
    "    sim_scores = list(enumerate(cosine_sim[index]))\n",
    "    sim_scores = sorted(sim_scores, key=lambda x: x[1], reverse=True)\n",
    "\n",
    "    # Obtener los índices de las 5 películas más similares (excluyendo la película consultada)\n",
    "    similar_movies_indices = [i[0] for i in sim_scores[1:6]]\n",
    "\n",
    "    # Obtener los nombres de las películas recomendadas\n",
    "    recommended_movies = Films['title'].iloc[similar_movies_indices].to_list()\n",
    "    \n",
    "\n",
    "    return recommended_movies"
   ]
  },
  {
   "cell_type": "code",
   "execution_count": 21,
   "metadata": {},
   "outputs": [
    {
     "name": "stdout",
     "output_type": "stream",
     "text": [
      "['toy story 2', 'toy story 3', 'a cinderella story', 'madagascar: escape 2 africa', \"garfield's fun fest\"]\n"
     ]
    }
   ],
   "source": [
    "recomendaciones = recomendacion('Toy Story')\n",
    "print(recomendaciones)"
   ]
  },
  {
   "cell_type": "code",
   "execution_count": 22,
   "metadata": {},
   "outputs": [
    {
     "name": "stdout",
     "output_type": "stream",
     "text": [
      "['ace ventura: when nature calls', 'ace ventura jr: pet detective', 'abraham', 'boogeyman', 'my girl 2']\n"
     ]
    }
   ],
   "source": [
    "recomendaciones = recomendacion('Pocahontas')\n",
    "print(recomendaciones)"
   ]
  },
  {
   "cell_type": "code",
   "execution_count": 24,
   "metadata": {},
   "outputs": [
    {
     "name": "stdout",
     "output_type": "stream",
     "text": [
      "['alex cross', 'along came a spider', 'cross', 'made in hong kong', 'hellraiser: inferno']\n"
     ]
    }
   ],
   "source": [
    "recomendaciones = recomendacion('Species')\n",
    "print(recomendaciones)"
   ]
  },
  {
   "cell_type": "code",
   "execution_count": 25,
   "metadata": {},
   "outputs": [
    {
     "name": "stdout",
     "output_type": "stream",
     "text": [
      "['halloween 5: the revenge of michael myers', 'halloween ii', 'halloween: resurrection', 'halloween: h20', 'halloween: the curse of michael myers']\n"
     ]
    }
   ],
   "source": [
    "recomendaciones = recomendacion('A Goofy Movie')\n",
    "print(recomendaciones)"
   ]
  }
 ],
 "metadata": {
  "kernelspec": {
   "display_name": "Python 3",
   "language": "python",
   "name": "python3"
  },
  "language_info": {
   "codemirror_mode": {
    "name": "ipython",
    "version": 3
   },
   "file_extension": ".py",
   "mimetype": "text/x-python",
   "name": "python",
   "nbconvert_exporter": "python",
   "pygments_lexer": "ipython3",
   "version": "3.9.13"
  },
  "orig_nbformat": 4
 },
 "nbformat": 4,
 "nbformat_minor": 2
}
